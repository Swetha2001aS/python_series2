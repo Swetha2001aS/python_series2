{
 "cells": [
  {
   "cell_type": "markdown",
   "metadata": {},
   "source": [
    "# Datatype\n"
   ]
  },
  {
   "cell_type": "markdown",
   "metadata": {},
   "source": [
    "## Integer "
   ]
  },
  {
   "cell_type": "code",
   "execution_count": null,
   "metadata": {},
   "outputs": [
    {
     "name": "stdout",
     "output_type": "stream",
     "text": [
      "30\n"
     ]
    }
   ],
   "source": [
    "a = 10\n",
    "b = 20\n",
    "print(a+b)"
   ]
  },
  {
   "cell_type": "markdown",
   "metadata": {},
   "source": [
    "### Type casting (flot into integer)"
   ]
  },
  {
   "cell_type": "code",
   "execution_count": null,
   "metadata": {},
   "outputs": [
    {
     "name": "stdout",
     "output_type": "stream",
     "text": [
      "10\n"
     ]
    }
   ],
   "source": [
    "a = 10.5\n",
    "print(int(a))"
   ]
  },
  {
   "cell_type": "markdown",
   "metadata": {},
   "source": [
    "### Type casting (flot into integer)"
   ]
  },
  {
   "cell_type": "code",
   "execution_count": null,
   "metadata": {},
   "outputs": [
    {
     "name": "stdout",
     "output_type": "stream",
     "text": [
      "30.0\n"
     ]
    }
   ],
   "source": [
    "b = 30\n",
    "print(float(b))"
   ]
  },
  {
   "cell_type": "markdown",
   "metadata": {},
   "source": [
    "## String"
   ]
  },
  {
   "cell_type": "markdown",
   "metadata": {},
   "source": [
    "string can be consider as array, like character array ,\n",
    "\n",
    "multi line string denoted by \"\"\" multiline string \"\"\"\n",
    "\n",
    "escape string \\ \n"
   ]
  },
  {
   "cell_type": "code",
   "execution_count": 32,
   "metadata": {},
   "outputs": [
    {
     "name": "stdout",
     "output_type": "stream",
     "text": [
      "Welcome python\n",
      "W\n",
      "multi\n",
      "line\n",
      "string\n",
      "swetha\"\n"
     ]
    }
   ],
   "source": [
    "str1 = \"Welcome\"\n",
    "str2 = 'python'\n",
    "str4 = \"\"\"multi\n",
    "line\n",
    "string\"\"\"\n",
    "str9 = \"swetha\\\"\"\n",
    "print(str1,str2)\n",
    "print(str1[0])\n",
    "print(str4)\n",
    "print(str9)"
   ]
  },
  {
   "cell_type": "markdown",
   "metadata": {},
   "source": [
    " ### concatenate strings \n",
    " using the + operator or the += assignment operator.\n",
    " \n",
    "Error:string and variable \n",
    "#print(\"hello\" string1)"
   ]
  },
  {
   "cell_type": "code",
   "execution_count": null,
   "metadata": {},
   "outputs": [
    {
     "name": "stdout",
     "output_type": "stream",
     "text": [
      "HelloWold\n",
      "goodmorning\n",
      "hiifriends\n",
      "helloHello\n"
     ]
    }
   ],
   "source": [
    "string1 = \"Hello\"\n",
    "string2 = \"Wold\"\n",
    "print(string1+string2)\n",
    "\n",
    "#or\n",
    "\n",
    "print(\"good\" + \"morning\")\n",
    "\n",
    "#or\n",
    "\n",
    "print(\"hii\" \"friends\")\n",
    "\n",
    "\n",
    "#or\n",
    "print(\"hello\" + string1)"
   ]
  },
  {
   "cell_type": "markdown",
   "metadata": {},
   "source": [
    "#### In the case of string and number\n",
    "its an error so need to convert the number to a string first,by using the str() function."
   ]
  },
  {
   "cell_type": "code",
   "execution_count": 1,
   "metadata": {},
   "outputs": [
    {
     "name": "stdout",
     "output_type": "stream",
     "text": [
      "hello26\n"
     ]
    }
   ],
   "source": [
    "st2 = \"hello\"\n",
    "num = 26\n",
    "print(\"hello\" + str(num))"
   ]
  },
  {
   "cell_type": "markdown",
   "metadata": {},
   "source": [
    "#### string & charater\n",
    "choose each charater in the string\n"
   ]
  },
  {
   "cell_type": "markdown",
   "metadata": {},
   "source": [
    "~ reverse the string [::-1]"
   ]
  },
  {
   "cell_type": "code",
   "execution_count": 6,
   "metadata": {},
   "outputs": [
    {
     "name": "stdout",
     "output_type": "stream",
     "text": [
      "e\n",
      "Hel\n",
      "lo world\n",
      "lo\n",
      "d\n",
      "dlrow olleH\n"
     ]
    }
   ],
   "source": [
    "str3 = \"Hello world\"\n",
    "print(str3[1])\n",
    "print(str3[0:3])\n",
    "print(str3[3:])\n",
    "print(str3[3:5])\n",
    "print(str3[-1])\n",
    "print(str3[::-1]) #reverse the string"
   ]
  },
  {
   "cell_type": "markdown",
   "metadata": {},
   "source": [
    "#### Length of the string ~ len()"
   ]
  },
  {
   "cell_type": "code",
   "execution_count": 8,
   "metadata": {},
   "outputs": [
    {
     "name": "stdout",
     "output_type": "stream",
     "text": [
      "5\n"
     ]
    }
   ],
   "source": [
    "str5 = \"apple\"\n",
    "print(len(str5))"
   ]
  },
  {
   "cell_type": "markdown",
   "metadata": {},
   "source": [
    "#### String handling functions\n",
    "\n",
    "Strinp ~ strip() ,remove leading and trailing whitespace (spaces, tabs, and newline characters) from a string.\n",
    "\n",
    "Lower ~ lower() , convert lowecase\n",
    "\n",
    "Upper ~ upper() , convert uppercase\n",
    "\n",
    "replace ~ replace() , replace any charater\n",
    "\n",
    "split ~ split() , a string into a list of substrings based on a specified delimiter.\n",
    "\n",
    "~ checks whether the substring is present in the string , it will print True; otherwise, it will print False\n",
    "\n",
    "Format ~ format() , method in Python is used to format strings by inserting values into placeholders within a string template.\n",
    "\n",
    "index ~ index() , find the index of the first occurrence of a substring within a string\n",
    "\n",
    "is it digit ~ isdigit() , to check whether the string is a digit or not\n",
    "\n",
    "is it alphabetic ~ isalpha() , to check whether the string is a alphabetic or not\n",
    "\n",
    "is it lower ~ islower() ,  to check whether the string is a lowecase or not\n",
    "\n",
    "is it upper ~ isupper() ,  to check whether the string is a uppercase or not\n",
    "\n",
    "startswith () , endswith() ~ to check whether the string is starts with specified substring, respectively."
   ]
  },
  {
   "cell_type": "code",
   "execution_count": 42,
   "metadata": {},
   "outputs": [
    {
     "name": "stdout",
     "output_type": "stream",
     "text": [
      "jaz    zu\n",
      "yellow\n",
      "YELLOW\n",
      "YellkW\n",
      "['apple', 'orange', 'grapes']\n",
      "True\n",
      "hii my name is swetha and my age is 23\n",
      "hii my name is swetha and my age is 23i have 3 car\n",
      "2\n",
      "True\n",
      "True\n",
      "True\n",
      "False\n",
      "True\n",
      "False\n",
      "True\n",
      "False\n"
     ]
    }
   ],
   "source": [
    "#strip\n",
    "str6 = \"   jaz    zu      \"\n",
    "print(str6.strip())\n",
    "\n",
    "#lowecase\n",
    "str7 = \"YElloW\"\n",
    "print(str7.lower())\n",
    "\n",
    "#uppercase\n",
    "str7 = \"YelloW\"\n",
    "print(str7.upper())\n",
    "\n",
    "#replace\n",
    "print(str7.replace(\"o\",\"k\"))\n",
    "\n",
    "#split\n",
    "str8 = \"apple,orange,grapes\"\n",
    "print(str8.split(\",\")) \n",
    "\n",
    "#check the value is present or not \n",
    "x = \"orange\" in str8\n",
    "print(x)\n",
    "\n",
    "#format\n",
    "name = \"swetha\"\n",
    "text = \"hii my name is {} and my age is {}\"\n",
    "age = 23\n",
    "print(text.format(name,age))\n",
    "\n",
    "#or\n",
    "\n",
    "car = 3\n",
    "text2 = \"hii my name is {0} and my age is {1}i have {2} car\"\n",
    "print(text2.format(name,age,car))\n",
    "\n",
    "#index\n",
    "print(name.index(\"e\"))\n",
    "\n",
    "#isdigit\n",
    "str10=\"67890\"\n",
    "print(str10.isdigit())\n",
    "\n",
    "#isalpha\n",
    "print(name.isalpha())\n",
    "\n",
    "#islower\n",
    "print(name.islower())\n",
    "\n",
    "#isupper\n",
    "print(name.isupper())\n",
    "\n",
    "#startswith\n",
    "print(name.startswith(\"sw\"))\n",
    "print(name.startswith(\"gh\"))\n",
    "\n",
    "#endswith\n",
    "print(name.endswith(\"a\"))\n",
    "print(name.startswith(\"kl\"))"
   ]
  },
  {
   "cell_type": "code",
   "execution_count": null,
   "metadata": {},
   "outputs": [],
   "source": []
  }
 ],
 "metadata": {
  "kernelspec": {
   "display_name": "env",
   "language": "python",
   "name": "python3"
  },
  "language_info": {
   "codemirror_mode": {
    "name": "ipython",
    "version": 3
   },
   "file_extension": ".py",
   "mimetype": "text/x-python",
   "name": "python",
   "nbconvert_exporter": "python",
   "pygments_lexer": "ipython3",
   "version": "3.12.3"
  }
 },
 "nbformat": 4,
 "nbformat_minor": 2
}
